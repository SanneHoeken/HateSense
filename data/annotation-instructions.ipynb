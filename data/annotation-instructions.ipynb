{
 "cells": [
  {
   "cell_type": "markdown",
   "metadata": {},
   "source": [
    "### Classifying Hateful Word Senses in Context - Annotation Guidelines\n",
    "\n",
    "In this study you will be provided with sentences that mention a particular target term in the following format:\n",
    "\n",
    "| **id** | **example** | **term** | **pos** | **sense_id** | **definition** | **ANNOTATION** | **DEFICIENT SENTENCE** |\n",
    "|---|---|---|---|---|---|---|---|\n",
    "| 448 | The bugger’s given me the wrong change. | bugger | noun | 3 | A foolish or worthless person or thing; a despicable person. |  |  |\n",
    "\n",
    "The example sentences can originate from different textual sources (e.g. social media, news, literature), from different time periods (predominantly modern but also e.g. 18th century English) and in different English dialects (e.g. US, UK or Australian English).\n",
    "\n",
    "**TASK**\n",
    "\n",
    "Given (1) the target term, (2) a sentence in which the target term occurs, and (3) the definition of the target term's sense, your task is to rate the hatefulness of the meaning of the target word within this specific sentence. Indicate your hatefulness rating in the column 'ANNOTATION' by choosing one of the following labels:\n",
    "| Label |                  |\n",
    "|-------|------------------|\n",
    "| 0     | Not hateful      |\n",
    "| 1     | Weakly hateful   |\n",
    "| 2     | Strongly hateful |\n",
    "| -     | Cannot decide    |\n",
    "\n",
    "_NOTE: the annotated examples provided in these guidelines don't display ground truth annotations; the rating of hatefulness that is aimed for in this study is subjective i.e. there are no right or wrong annotations, and you could disagree with the provided annotations._\n",
    "\n",
    "For example:\n",
    "| **id** | **example** | **term** | **pos** | **sense_id** | **definition** | **ANNOTATION** | **DEFICIENT SENTENCE** |\n",
    "|---|---|---|---|---|---|---|---|\n",
    "| 170 | Get over here, you old bastard! | bastard | noun | 4 | A man, a fellow, a male friend. | 0 |  |\n",
    "| 166 | Some bastard stole my car while I was helping an injured person. | bastard | noun | 3 | A contemptible, inconsiderate, overly or arrogantly rude or spiteful person. | 1 |  |\n",
    "\n",
    "If you could *not* base your rating on the sentence _alone_, i.e. you needed the term's sense definition for your judgment (e.g. you were not familiar with the term's sense before or the sentence still leaves room for sense ambiguity), please indicate this in the column 'DEFICIENT SENTENCE' with \"True\". For example:\n",
    "\n",
    "| **id** | **example** | **term** | **pos** | **sense_id** | **definition** | **ANNOTATION** | **DEFICIENT SENTENCE** |\n",
    "|---|---|---|---|---|---|---|---|\n",
    "| 3687 | “Trump simp”. | simp | noun | 4 | Someone who foolishly overvalues someone else and defers to them, putting them on a pedestal. | 1 | True |\n",
    "\n",
    "If you could not make a judgment given both the sentence _and_ the sense definition (e.g. the sentence is too poorly written and/or the sense definition is not providing (enough) information about its hatefulness), please indicate this with \"-\" in the column 'ANNOTATION' _and_ with \"True\" in the column 'DEFICIENT SENTENCE'. For example:\n",
    "| **id** | **example** | **term** | **pos** | **sense_id** | **definition** | **ANNOTATION** | **DEFICIENT SENTENCE** |\n",
    "|---|---|---|---|---|---|---|---|\n",
    "| 27 | Volvo cars now Ah tiong brand.| Ah Tiong | noun | 1 | A mainland Chinese person. | - | True |\n",
    "\n",
    "The definition of a sense could already imply the hatefulness of target term occurences, i.e. a term's sense can (according to your judgment) exclusively be used in a (non-)hateful way if it complies to that sense definition. However, this is not necessarily the case. In the following example the two sentences comply with the same target term sense but could be judged with a different hatefulness rating:\n",
    "\n",
    "| **id** | **example** | **term** | **pos** | **sense_id** | **definition** | **ANNOTATION** | **DEFICIENT SENTENCE** |\n",
    "|---|---|---|---|---|---|---|---|\n",
    "| 2711 | \"Yes, I am super nerd, and the whole room cracked up,\" Said Orszag. | nerd | noun | 1 | A person who is intellectual but generally introverted. | 0 |  |\n",
    "| 2709 | They particularly enjoy making fun of one of their fellows who is not present, whom they consider <br>a hopeless nerd – until, that is, they learn he is engaged to marry the boss's daughter. | nerd | noun | 1 | A person who is intellectual but generally introverted. | 1 |  |\n"
   ]
  }
 ],
 "metadata": {
  "language_info": {
   "name": "python"
  }
 },
 "nbformat": 4,
 "nbformat_minor": 2
}
